{
  "nbformat": 4,
  "nbformat_minor": 0,
  "metadata": {
    "colab": {
      "provenance": [],
      "machine_shape": "hm",
      "gpuType": "V100"
    },
    "kernelspec": {
      "name": "python3",
      "display_name": "Python 3"
    },
    "language_info": {
      "name": "python"
    },
    "accelerator": "GPU"
  },
  "cells": [
    {
      "cell_type": "code",
      "source": [
        "from google.colab import drive\n",
        "drive.mount('/content/drive')"
      ],
      "metadata": {
        "id": "QNU8dYQzqGS8",
        "colab": {
          "base_uri": "https://localhost:8080/"
        },
        "outputId": "8e3ac78e-2c7f-4bde-f801-daf60bb83f55"
      },
      "execution_count": 1,
      "outputs": [
        {
          "output_type": "stream",
          "name": "stdout",
          "text": [
            "Mounted at /content/drive\n"
          ]
        }
      ]
    },
    {
      "cell_type": "markdown",
      "source": [
        "### Parse the output file (.mat format)"
      ],
      "metadata": {
        "id": "CdlIvcay12rL"
      }
    },
    {
      "cell_type": "code",
      "source": [
        "from scipy.io import loadmat\n",
        "\n",
        "# file_path = '/content/drive/MyDrive/Colab Notebooks/Lung/MoNuSAC/gtex_hover_result/case1/case1_40x_output/mat/9_33.mat'\n",
        "file_path = '/content/drive/MyDrive/Colab Notebooks/Lung/CoNSeP/Train/Labels/train_1.mat'\n",
        "data = loadmat(file_path)"
      ],
      "metadata": {
        "id": "piiE-n1X0PpE"
      },
      "execution_count": null,
      "outputs": []
    },
    {
      "cell_type": "code",
      "source": [
        "data.keys()"
      ],
      "metadata": {
        "colab": {
          "base_uri": "https://localhost:8080/"
        },
        "id": "_hm2N5xUzuxi",
        "outputId": "8932f145-fa61-4c06-990b-974ea8d07059"
      },
      "execution_count": null,
      "outputs": [
        {
          "output_type": "execute_result",
          "data": {
            "text/plain": [
              "dict_keys(['__header__', '__version__', '__globals__', 'inst_map', 'type_map', 'inst_type', 'inst_centroid'])"
            ]
          },
          "metadata": {},
          "execution_count": 3
        }
      ]
    },
    {
      "cell_type": "code",
      "source": [
        "inst_map = data['inst_map']\n",
        "inst_type = data['inst_type']"
      ],
      "metadata": {
        "id": "9Dwl381S0nrD"
      },
      "execution_count": null,
      "outputs": []
    },
    {
      "cell_type": "code",
      "source": [
        "inst_map"
      ],
      "metadata": {
        "colab": {
          "base_uri": "https://localhost:8080/"
        },
        "id": "mUWNQzB3b5FE",
        "outputId": "9710bc59-6256-42e9-98a8-335990bdcfa8"
      },
      "execution_count": null,
      "outputs": [
        {
          "output_type": "execute_result",
          "data": {
            "text/plain": [
              "array([[0., 0., 0., ..., 0., 0., 0.],\n",
              "       [0., 0., 0., ..., 0., 0., 0.],\n",
              "       [0., 0., 0., ..., 0., 0., 0.],\n",
              "       ...,\n",
              "       [0., 0., 0., ..., 0., 0., 0.],\n",
              "       [0., 0., 0., ..., 0., 0., 0.],\n",
              "       [0., 0., 0., ..., 0., 0., 0.]])"
            ]
          },
          "metadata": {},
          "execution_count": 6
        }
      ]
    },
    {
      "cell_type": "code",
      "source": [
        "import numpy as np\n",
        "unique, counts = np.unique(inst_map, return_counts=True)"
      ],
      "metadata": {
        "id": "g0pYCygWS5HY"
      },
      "execution_count": null,
      "outputs": []
    },
    {
      "cell_type": "code",
      "source": [
        "inst_centroid = data['inst_centroid']\n",
        "inst_centroid.shape"
      ],
      "metadata": {
        "colab": {
          "base_uri": "https://localhost:8080/"
        },
        "id": "puH2kwWrcd3O",
        "outputId": "a4b46da5-388b-4efa-8438-8f6b4f45d5c1"
      },
      "execution_count": null,
      "outputs": [
        {
          "output_type": "execute_result",
          "data": {
            "text/plain": [
              "(850, 2)"
            ]
          },
          "metadata": {},
          "execution_count": 15
        }
      ]
    },
    {
      "cell_type": "markdown",
      "source": [
        "## Get counts for each cell type"
      ],
      "metadata": {
        "id": "YcDzcn6iIw4j"
      }
    },
    {
      "cell_type": "code",
      "source": [
        "import os\n",
        "import csv\n",
        "from scipy.io import loadmat\n",
        "import numpy as np\n",
        "\n",
        "# Path to your folder containing the files\n",
        "# folder_path = '/content/drive/MyDrive/Colab Notebooks/Lung/MoNuSAC/gtex_hover_result/case1/case1_40x_output/mat/'\n",
        "folder_path = '/content/drive/MyDrive/Colab Notebooks/Lung/Project7/40x_1024_output/case1_output/mat/'\n",
        "\n",
        "# The CSV file to write to\n",
        "output_csv_file = '/content/drive/MyDrive/Colab Notebooks/Lung/Project7/40x_1024_output/case1_output/case1_nuclei_count.csv'\n",
        "\n",
        "# Function to extract information from each file\n",
        "# Adjust this function based on your specific requirements\n",
        "def extract_info_from_file(file_path):\n",
        "    data = loadmat(file_path)\n",
        "    inst_type = data['inst_type']\n",
        "    count_1 = np.count_nonzero(inst_type == 1)\n",
        "    count_2 = np.count_nonzero(inst_type == 2)\n",
        "    count_3 = np.count_nonzero(inst_type == 3)\n",
        "    count_4 = np.count_nonzero(inst_type == 4)\n",
        "    count_0 = np.count_nonzero(inst_type == 0)\n",
        "\n",
        "    return [count_1, count_2, count_3, count_4, count_0]\n",
        "\n",
        "# Define the column names for your CSV file\n",
        "# The first column is for filenames, and the others are for the extracted information\n",
        "# Customize these names based on your specific needs\n",
        "column_names = ['Filename', 'Epithelial', 'Lymphocyte', 'Macrophage', 'Neutrophil', 'nolabel']  # Add more column names as needed\n",
        "\n",
        "# Open the CSV file for writing\n",
        "with open(output_csv_file, 'w', newline='', encoding='utf-8') as csvfile:\n",
        "    csvwriter = csv.writer(csvfile)\n",
        "\n",
        "    # Write the header row with column names\n",
        "    csvwriter.writerow(column_names)\n",
        "\n",
        "    # Iterate over each file in the folder\n",
        "    for filename in os.listdir(folder_path):\n",
        "        # Construct the full file path\n",
        "        file_path = os.path.join(folder_path, filename)\n",
        "\n",
        "        # Check if it's a file and not a directory\n",
        "        if os.path.isfile(file_path):\n",
        "            # Extract information from the file\n",
        "            extracted_info = extract_info_from_file(file_path)\n",
        "\n",
        "            # Write the filename and extracted information to the CSV\n",
        "            csvwriter.writerow([filename] + extracted_info)\n",
        "\n",
        "print(f'CSV file has been created at {output_csv_file}.')\n"
      ],
      "metadata": {
        "colab": {
          "base_uri": "https://localhost:8080/"
        },
        "id": "DMAkqRMK8T2J",
        "outputId": "8fdb0cd1-d255-463b-dbf7-7636267875a7"
      },
      "execution_count": null,
      "outputs": [
        {
          "output_type": "stream",
          "name": "stdout",
          "text": [
            "CSV file has been created at /content/drive/MyDrive/Colab Notebooks/Lung/Project7/40x_1024_output/case1_output/case1_nuclei_count.csv.\n"
          ]
        }
      ]
    },
    {
      "cell_type": "markdown",
      "source": [
        "## Change directory and download dependency"
      ],
      "metadata": {
        "id": "k5Ktx1GbI3N2"
      }
    },
    {
      "cell_type": "code",
      "source": [
        "cd /content/drive/MyDrive/Colab Notebooks/Lung/MoNuSAC/hover_net"
      ],
      "metadata": {
        "colab": {
          "base_uri": "https://localhost:8080/"
        },
        "id": "Uyunp7Hxim8d",
        "outputId": "8d24ffa5-18b6-4acd-ee40-bd5c7e8960a4"
      },
      "execution_count": null,
      "outputs": [
        {
          "output_type": "stream",
          "name": "stdout",
          "text": [
            "/content/drive/MyDrive/Colab Notebooks/Lung/MoNuSAC/hover_net\n"
          ]
        }
      ]
    },
    {
      "cell_type": "code",
      "source": [
        "!pip install docopt==0.6.2"
      ],
      "metadata": {
        "colab": {
          "base_uri": "https://localhost:8080/"
        },
        "id": "SoJey2nrGEWg",
        "outputId": "90cfe384-c96f-4d61-fdde-816ed3dc952e"
      },
      "execution_count": null,
      "outputs": [
        {
          "output_type": "stream",
          "name": "stdout",
          "text": [
            "Collecting docopt==0.6.2\n",
            "  Downloading docopt-0.6.2.tar.gz (25 kB)\n",
            "  Preparing metadata (setup.py) ... \u001b[?25l\u001b[?25hdone\n",
            "Building wheels for collected packages: docopt\n",
            "  Building wheel for docopt (setup.py) ... \u001b[?25l\u001b[?25hdone\n",
            "  Created wheel for docopt: filename=docopt-0.6.2-py2.py3-none-any.whl size=13706 sha256=3ba5d01ab2f4fdd9b618f11d7657745fbd57e54249b91f8f332778b000b70e58\n",
            "  Stored in directory: /root/.cache/pip/wheels/fc/ab/d4/5da2067ac95b36618c629a5f93f809425700506f72c9732fac\n",
            "Successfully built docopt\n",
            "Installing collected packages: docopt\n",
            "Successfully installed docopt-0.6.2\n"
          ]
        }
      ]
    },
    {
      "cell_type": "markdown",
      "source": [
        "##Tile Processing"
      ],
      "metadata": {
        "id": "y7q85pLog6vt"
      }
    },
    {
      "cell_type": "code",
      "source": [
        "MODEL_PATH = '../hovernet_fast_monusac_type_tf2pytorch.tar'\n",
        "TYPE_INFO_PATH = '../type_info.json'\n",
        "# INPUT_DIR = '../gtex_hover_result/case4/case4_40x'\n",
        "# OUTPUT_DIR = '../gtex_hover_result/case4/case4_40x_output1'\n",
        "INPUT_DIR = '../../Project7/40x_1024/case1_40x_1024'\n",
        "OUTPUT_DIR = '../../Project7/40x_1024_output/case1_output'\n",
        "\n",
        "\n",
        "# !python run_infer.py --model_path=$MODEL_PATH --nr_post_proc_workers=0 --type_info_path=$TYPE_INFO_PATH --model_mode=fast --nr_types=5 tile --input_dir=$INPUT_DIR --output_dir=$OUTPUT_DIR\n",
        "!python run_infer.py --model_path=$MODEL_PATH --nr_post_proc_workers=0 --type_info_path=$TYPE_INFO_PATH --model_mode=fast --nr_types=5 tile --input_dir=$INPUT_DIR --output_dir=$OUTPUT_DIR"
      ],
      "metadata": {
        "colab": {
          "base_uri": "https://localhost:8080/"
        },
        "id": "C1gwpJyO1cLt",
        "outputId": "875ba1be-2cf5-4c71-b627-b64fa6a8cd0b"
      },
      "execution_count": null,
      "outputs": [
        {
          "output_type": "stream",
          "name": "stdout",
          "text": [
            "|2024-03-19|22:29:05.995| [INFO] .... Detect #GPUS: 1\n",
            "Process Patches: 512it [08:12,  1.04it/s]\n",
            "Process Patches: 100%|########################| 472/472 [07:29<00:00,  1.05it/s]\n",
            "Process Patches: 416it [06:29,  1.07it/s]\n",
            "Process Patches: 408it [06:30,  1.04it/s]\n"
          ]
        }
      ]
    },
    {
      "cell_type": "markdown",
      "source": [
        "##WSI Processing"
      ],
      "metadata": {
        "id": "bPvOmZdGhDcJ"
      }
    },
    {
      "cell_type": "code",
      "source": [
        "!pip install openslide-python\n",
        "\n",
        "!apt-get install openslide-tools\n",
        "!apt-get install python-openslide"
      ],
      "metadata": {
        "colab": {
          "base_uri": "https://localhost:8080/"
        },
        "id": "3ooaSv_Nnrlh",
        "outputId": "28cde00d-a4e8-4bfc-d7cf-1b6892bca553"
      },
      "execution_count": null,
      "outputs": [
        {
          "output_type": "stream",
          "name": "stdout",
          "text": [
            "Collecting openslide-python\n",
            "  Downloading openslide-python-1.3.1.tar.gz (358 kB)\n",
            "\u001b[?25l     \u001b[90m━━━━━━━━━━━━━━━━━━━━━━━━━━━━━━━━━━━━━━━━\u001b[0m \u001b[32m0.0/359.0 kB\u001b[0m \u001b[31m?\u001b[0m eta \u001b[36m-:--:--\u001b[0m\r\u001b[2K     \u001b[91m━━━━━━━━━━━━━\u001b[0m\u001b[91m╸\u001b[0m\u001b[90m━━━━━━━━━━━━━━━━━━━━━━━━━━\u001b[0m \u001b[32m122.9/359.0 kB\u001b[0m \u001b[31m3.6 MB/s\u001b[0m eta \u001b[36m0:00:01\u001b[0m\r\u001b[2K     \u001b[90m━━━━━━━━━━━━━━━━━━━━━━━━━━━━━━━━━━━━━━━━\u001b[0m \u001b[32m359.0/359.0 kB\u001b[0m \u001b[31m5.8 MB/s\u001b[0m eta \u001b[36m0:00:00\u001b[0m\n",
            "\u001b[?25h  Preparing metadata (setup.py) ... \u001b[?25l\u001b[?25hdone\n",
            "Requirement already satisfied: Pillow in /usr/local/lib/python3.10/dist-packages (from openslide-python) (9.4.0)\n",
            "Building wheels for collected packages: openslide-python\n",
            "  Building wheel for openslide-python (setup.py) ... \u001b[?25l\u001b[?25hdone\n",
            "  Created wheel for openslide-python: filename=openslide_python-1.3.1-cp310-cp310-linux_x86_64.whl size=33550 sha256=6f091a28ab07e0a0098dc534d4fe68af07c0560c316d8f027ae63222f054a04b\n",
            "  Stored in directory: /root/.cache/pip/wheels/79/79/fa/29a0087493c69dff7fd0b70fab5d6771002a531010161d2d97\n",
            "Successfully built openslide-python\n",
            "Installing collected packages: openslide-python\n",
            "Successfully installed openslide-python-1.3.1\n"
          ]
        }
      ]
    },
    {
      "cell_type": "code",
      "source": [
        "!python run_infer.py wsi -help"
      ],
      "metadata": {
        "colab": {
          "base_uri": "https://localhost:8080/"
        },
        "id": "ISQHjrX9lP97",
        "outputId": "279a61ab-b550-4092-fe98-cff5b7ce0251"
      },
      "execution_count": null,
      "outputs": [
        {
          "output_type": "stream",
          "name": "stdout",
          "text": [
            "Arguments for processing wsi\n",
            "\n",
            "usage:\n",
            "    wsi (--input_dir=<path>) (--output_dir=<path>) [--proc_mag=<n>]        [--cache_path=<path>] [--input_mask_dir=<path>]         [--ambiguous_size=<n>] [--chunk_shape=<n>] [--tile_shape=<n>]         [--save_thumb] [--save_mask]\n",
            "    \n",
            "options:\n",
            "    --input_dir=<path>      Path to input data directory. Assumes the files are not nested within directory.\n",
            "    --output_dir=<path>     Path to output directory.\n",
            "    --cache_path=<path>     Path for cache. Should be placed on SSD with at least 100GB. [default: cache]\n",
            "    --mask_dir=<path>       Path to directory containing tissue masks. \n",
            "                            Should have the same name as corresponding WSIs. [default: '']\n",
            "\n",
            "    --proc_mag=<n>          Magnification level (objective power) used for WSI processing. [default: 40]\n",
            "    --ambiguous_size=<int>  Define ambiguous region along tiling grid to perform re-post processing. [default: 128]\n",
            "    --chunk_shape=<n>       Shape of chunk for processing. [default: 10000]\n",
            "    --tile_shape=<n>        Shape of tiles for processing. [default: 2048]\n",
            "    --save_thumb            To save thumb. [default: False]\n",
            "    --save_mask             To save mask. [default: False]\n"
          ]
        }
      ]
    },
    {
      "cell_type": "code",
      "source": [
        "MODEL_PATH = '../hovernet_fast_monusac_type_tf2pytorch.tar'\n",
        "TYPE_INFO_PATH = '../type_info.json'\n",
        "INPUT_DIR = '../whole_slide_image/input/'\n",
        "OUTPUT_DIR = '../whole_slide_image/output1'\n",
        "CACHE_PATH = '/content/drive/MyDrive/my_cache'\n",
        "\n",
        "\n",
        "!python run_infer.py --model_path=$MODEL_PATH --nr_post_proc_workers=0 --type_info_path=$TYPE_INFO_PATH --model_mode=fast --nr_types=5 wsi --input_dir=$INPUT_DIR --output_dir=$OUTPUT_DIR --cache_path=$CACHE_PATH --proc_mag=20  --save_thumb --save_mask"
      ],
      "metadata": {
        "colab": {
          "base_uri": "https://localhost:8080/"
        },
        "id": "apMVPLdEhBUo",
        "outputId": "52cea556-fbef-4766-8aa2-46f357853fd9"
      },
      "execution_count": null,
      "outputs": [
        {
          "output_type": "stream",
          "name": "stdout",
          "text": [
            "|2024-03-19|21:47:34.578| [INFO] .... Detect #GPUS: 1\n",
            "\n",
            "^C\n"
          ]
        }
      ]
    },
    {
      "cell_type": "markdown",
      "source": [
        "## Testing"
      ],
      "metadata": {
        "id": "wmo98-FXtg2-"
      }
    },
    {
      "cell_type": "code",
      "source": [
        "!python run_infer.py --model_path='/content/drive/MyDrive/Colab Notebooks/MoNuSAC/hovernet_fast_monusac_type_tf2pytorch.tar' --nr_post_proc_workers=0 --type_info_path='/content/drive/MyDrive/Colab Notebooks/MoNuSAC/type_info2.json' --model_mode=fast --nr_types=5 tile --input_dir='/content/drive/MyDrive/Colab Notebooks/MoNuSAC/test_data2/input' --output_dir='/content/drive/MyDrive/Colab Notebooks/MoNuSAC/test_data2/output'"
      ],
      "metadata": {
        "id": "JD4rdyAWsfgN",
        "colab": {
          "base_uri": "https://localhost:8080/"
        },
        "outputId": "3a711566-a43e-4b90-a59a-8b219efeac92"
      },
      "execution_count": null,
      "outputs": [
        {
          "output_type": "stream",
          "name": "stdout",
          "text": [
            "|2024-01-15|15:31:20.107| [INFO] .... Detect #GPUS: 1\n",
            "Process Patches: 8it [00:21,  2.67s/it]\n"
          ]
        }
      ]
    }
  ]
}