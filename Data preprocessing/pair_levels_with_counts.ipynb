{
 "cells": [
  {
   "cell_type": "code",
   "execution_count": 16,
   "id": "e87922fb",
   "metadata": {},
   "outputs": [
    {
     "name": "stdout",
     "output_type": "stream",
     "text": [
      "  filename    x_y  level\n",
      "0    case1  22_67      0\n",
      "1    case1  32_76      0\n",
      "2    case1  13_53      0\n",
      "3    case1   4_55      0\n",
      "4    case1  30_66      0\n"
     ]
    }
   ],
   "source": [
    "counts_dir = 'patches_40x_output/output_count/'\n",
    "annotation_file = 'annotated_patches/annotations.csv'\n",
    "\n",
    "import pandas as pd\n",
    "import os\n",
    "\n",
    "data = pd.read_csv(annotation_file)\n",
    "\n",
    "print(data.head())"
   ]
  },
  {
   "cell_type": "code",
   "execution_count": 17,
   "id": "29611ca3",
   "metadata": {},
   "outputs": [
    {
     "name": "stdout",
     "output_type": "stream",
     "text": [
      "['case3_nuclei_count.csv', 'control2_nuclei_count.csv', 'case4_nuclei_count.csv', 'control4_nuclei_count.csv', 'control5_nuclei_count.csv', 'control3_nuclei_count.csv', 'patch_miss_nuclei_count.csv', 'case1_nuclei_count.csv', 'case2_nuclei_count.csv', 'case5_nuclei_count.csv', 'control1_nuclei_count.csv']\n"
     ]
    }
   ],
   "source": [
    "file_names = [file for file in os.listdir(counts_dir) if os.path.isfile(os.path.join(counts_dir, file))]\n",
    "print(file_names)"
   ]
  },
  {
   "cell_type": "code",
   "execution_count": 18,
   "id": "50abf074",
   "metadata": {},
   "outputs": [
    {
     "name": "stdout",
     "output_type": "stream",
     "text": [
      "     Filename  Epithelial  Lymphocyte  Macrophage  Neutrophil  nolabel\n",
      "0  12_49.json           5          53           5          15        1\n",
      "1  42_14.json           2         128          12           7       13\n",
      "2  37_18.json           4         144          35          25       14\n",
      "3  11_23.json           0         116           1          14       17\n",
      "4  36_19.json           9         135          19          23       12\n"
     ]
    }
   ],
   "source": [
    "data2 = pd.read_csv(counts_dir + file_names[0])\n",
    "print(data2.head())"
   ]
  },
  {
   "cell_type": "code",
   "execution_count": 23,
   "id": "23f00aec",
   "metadata": {},
   "outputs": [],
   "source": [
    "import pandas as pd\n",
    "\n",
    "# Load the main annotation file\n",
    "annotations = pd.read_csv('annotated_patches/annotations.csv')\n",
    "\n",
    "# Directory where the count CSVs are stored\n",
    "count_dir = 'patches_40x_output/output_count/'  # Adjust the path as necessary\n",
    "\n",
    "# Prepare to append new columns to the annotations DataFrame\n",
    "annotations['Epithelial'] = None\n",
    "annotations['Lymphocyte'] = None\n",
    "annotations['Macrophage'] = None\n",
    "annotations['Neutrophil'] = None\n",
    "annotations['nolabel'] = None\n",
    "\n",
    "# Iterate over each row in the annotation DataFrame\n",
    "for index, row in annotations.iterrows():\n",
    "    # Construct the filename for the corresponding count CSV\n",
    "    count_filename = f\"{count_dir}{row['filename']}_nuclei_count.csv\"\n",
    "    \n",
    "    # Load the corresponding count CSV file\n",
    "    try:\n",
    "        count_data = pd.read_csv(count_filename)\n",
    "        \n",
    "        # Find the matching row in the count data\n",
    "        # row['x_y'] should match the 'Filename' field in count_data\n",
    "        match = count_data[count_data['Filename'] == f\"{row['x_y']}.json\"]\n",
    "        \n",
    "        if not match.empty:\n",
    "            # If a match is found, update the annotations DataFrame\n",
    "            annotations.at[index, 'Epithelial'] = match['Epithelial'].values[0]\n",
    "            annotations.at[index, 'Lymphocyte'] = match['Lymphocyte'].values[0]\n",
    "            annotations.at[index, 'Macrophage'] = match['Macrophage'].values[0]\n",
    "            annotations.at[index, 'Neutrophil'] = match['Neutrophil'].values[0]\n",
    "            annotations.at[index, 'nolabel'] = match['nolabel'].values[0]\n",
    "    except FileNotFoundError:\n",
    "        print(f\"File not found: {count_filename}\")\n",
    "        continue\n",
    "\n",
    "# Save the updated annotations DataFrame to a new CSV file\n",
    "annotations.to_csv('annotated_patches/updated_annotations.csv', index=False)\n"
   ]
  },
  {
   "cell_type": "code",
   "execution_count": 24,
   "id": "0104d8aa",
   "metadata": {},
   "outputs": [
    {
     "data": {
      "text/plain": [
       "'/projectnb/ec500kb/projects/project7/GTEx'"
      ]
     },
     "execution_count": 24,
     "metadata": {},
     "output_type": "execute_result"
    }
   ],
   "source": [
    "pwd"
   ]
  },
  {
   "cell_type": "code",
   "execution_count": null,
   "id": "25acb78d",
   "metadata": {},
   "outputs": [],
   "source": []
  }
 ],
 "metadata": {
  "kernelspec": {
   "display_name": "Python 3",
   "language": "python",
   "name": "python3"
  },
  "language_info": {
   "codemirror_mode": {
    "name": "ipython",
    "version": 3
   },
   "file_extension": ".py",
   "mimetype": "text/x-python",
   "name": "python",
   "nbconvert_exporter": "python",
   "pygments_lexer": "ipython3",
   "version": "3.6.12"
  }
 },
 "nbformat": 4,
 "nbformat_minor": 5
}
